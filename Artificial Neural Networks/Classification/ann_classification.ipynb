{
 "cells": [
  {
   "cell_type": "markdown",
   "metadata": {
    "colab_type": "text",
    "id": "lP6JLo1tGNBg"
   },
   "source": [
    "# Artificial Neural Network - Regression"
   ]
  },
  {
   "cell_type": "markdown",
   "metadata": {
    "colab_type": "text",
    "id": "gWZyYmS_UE_L"
   },
   "source": [
    "### Importing the libraries"
   ]
  },
  {
   "cell_type": "code",
   "execution_count": 1,
   "metadata": {
    "colab": {},
    "colab_type": "code",
    "id": "MxkJoQBkUIHC"
   },
   "outputs": [],
   "source": [
    "import numpy as np\n",
    "import pandas as pd\n",
    "import tensorflow as tf"
   ]
  },
  {
   "cell_type": "code",
   "execution_count": 2,
   "metadata": {
    "colab": {
     "base_uri": "https://localhost:8080/",
     "height": 35
    },
    "colab_type": "code",
    "id": "ZaTwK7ojXr2F",
    "outputId": "c1ab7b79-eec2-4b9b-d33e-1d813f61cd2b"
   },
   "outputs": [
    {
     "data": {
      "application/vnd.google.colaboratory.intrinsic": {
       "type": "string"
      },
      "text/plain": [
       "'2.2.0'"
      ]
     },
     "execution_count": 2,
     "metadata": {
      "tags": []
     },
     "output_type": "execute_result"
    }
   ],
   "source": [
    "tf.__version__"
   ]
  },
  {
   "cell_type": "markdown",
   "metadata": {
    "colab_type": "text",
    "id": "1E0Q3aoKUCRX"
   },
   "source": [
    "## Data Preprocessing"
   ]
  },
  {
   "cell_type": "markdown",
   "metadata": {
    "colab_type": "text",
    "id": "cKWAkFVGUU0Z"
   },
   "source": [
    "### Importing the dataset"
   ]
  },
  {
   "cell_type": "code",
   "execution_count": 3,
   "metadata": {
    "colab": {},
    "colab_type": "code",
    "id": "MXUkhkMfU4wq"
   },
   "outputs": [],
   "source": [
    "dataset = pd.read_csv('Churn_Modelling.csv')\n",
    "X = dataset.iloc[:, 3:-1].values\n",
    "y = dataset.iloc[:, -1].values"
   ]
  },
  {
   "cell_type": "code",
   "execution_count": 4,
   "metadata": {
    "colab": {
     "base_uri": "https://localhost:8080/",
     "height": 140
    },
    "colab_type": "code",
    "id": "VYP9cQTWbzuI",
    "outputId": "e34693f6-1cc7-404e-bff6-757acbf8b199"
   },
   "outputs": [
    {
     "name": "stdout",
     "output_type": "stream",
     "text": [
      "[[619 'France' 'Female' ... 1 1 101348.88]\n",
      " [608 'Spain' 'Female' ... 0 1 112542.58]\n",
      " [502 'France' 'Female' ... 1 0 113931.57]\n",
      " ...\n",
      " [709 'France' 'Female' ... 0 1 42085.58]\n",
      " [772 'Germany' 'Male' ... 1 0 92888.52]\n",
      " [792 'France' 'Female' ... 1 0 38190.78]]\n"
     ]
    }
   ],
   "source": [
    "print(X)"
   ]
  },
  {
   "cell_type": "code",
   "execution_count": 5,
   "metadata": {
    "colab": {
     "base_uri": "https://localhost:8080/",
     "height": 34
    },
    "colab_type": "code",
    "id": "38vKGE6Nb2RR",
    "outputId": "271b0408-8625-473e-c534-b8de1f46eea7"
   },
   "outputs": [
    {
     "name": "stdout",
     "output_type": "stream",
     "text": [
      "[1 0 1 ... 1 1 0]\n"
     ]
    }
   ],
   "source": [
    "print(y)"
   ]
  },
  {
   "cell_type": "markdown",
   "metadata": {
    "colab_type": "text",
    "id": "N6bQ0UgSU-NJ"
   },
   "source": [
    "### Encoding categorical data"
   ]
  },
  {
   "cell_type": "markdown",
   "metadata": {
    "colab_type": "text",
    "id": "le5MJreAbW52"
   },
   "source": [
    "Label Encoding the \"Gender\" column"
   ]
  },
  {
   "cell_type": "code",
   "execution_count": 6,
   "metadata": {
    "colab": {},
    "colab_type": "code",
    "id": "PxVKWXxLbczC"
   },
   "outputs": [],
   "source": [
    "from sklearn.preprocessing import LabelEncoder\n",
    "le = LabelEncoder()\n",
    "X[:, 2] = le.fit_transform(X[:, 2])"
   ]
  },
  {
   "cell_type": "code",
   "execution_count": 7,
   "metadata": {
    "colab": {
     "base_uri": "https://localhost:8080/",
     "height": 140
    },
    "colab_type": "code",
    "id": "-M1KboxFb6OO",
    "outputId": "17a8b49c-5f90-48ea-b02c-85780116dc4d"
   },
   "outputs": [
    {
     "name": "stdout",
     "output_type": "stream",
     "text": [
      "[[619 'France' 0 ... 1 1 101348.88]\n",
      " [608 'Spain' 0 ... 0 1 112542.58]\n",
      " [502 'France' 0 ... 1 0 113931.57]\n",
      " ...\n",
      " [709 'France' 0 ... 0 1 42085.58]\n",
      " [772 'Germany' 1 ... 1 0 92888.52]\n",
      " [792 'France' 0 ... 1 0 38190.78]]\n"
     ]
    }
   ],
   "source": [
    "print(X)"
   ]
  },
  {
   "cell_type": "markdown",
   "metadata": {
    "colab_type": "text",
    "id": "CUxGZezpbMcb"
   },
   "source": [
    "One Hot Encoding the \"Geography\" column"
   ]
  },
  {
   "cell_type": "code",
   "execution_count": 8,
   "metadata": {
    "colab": {},
    "colab_type": "code",
    "id": "AMXC8-KMVirw"
   },
   "outputs": [],
   "source": [
    "from sklearn.compose import ColumnTransformer\n",
    "from sklearn.preprocessing import OneHotEncoder\n",
    "ct = ColumnTransformer(transformers=[('encoder', OneHotEncoder(), [1])], remainder='passthrough')\n",
    "X = np.array(ct.fit_transform(X))"
   ]
  },
  {
   "cell_type": "code",
   "execution_count": 9,
   "metadata": {
    "colab": {
     "base_uri": "https://localhost:8080/",
     "height": 140
    },
    "colab_type": "code",
    "id": "ZcxwEon-b8nV",
    "outputId": "e07c2142-7425-43d4-87d0-6b136afc83b8"
   },
   "outputs": [
    {
     "name": "stdout",
     "output_type": "stream",
     "text": [
      "[[1.0 0.0 0.0 ... 1 1 101348.88]\n",
      " [0.0 0.0 1.0 ... 0 1 112542.58]\n",
      " [1.0 0.0 0.0 ... 1 0 113931.57]\n",
      " ...\n",
      " [1.0 0.0 0.0 ... 0 1 42085.58]\n",
      " [0.0 1.0 0.0 ... 1 0 92888.52]\n",
      " [1.0 0.0 0.0 ... 1 0 38190.78]]\n"
     ]
    }
   ],
   "source": [
    "print(X)"
   ]
  },
  {
   "cell_type": "markdown",
   "metadata": {
    "colab_type": "text",
    "id": "vHol938cW8zd"
   },
   "source": [
    "### Splitting the dataset into the Training set and Test set"
   ]
  },
  {
   "cell_type": "code",
   "execution_count": 10,
   "metadata": {
    "colab": {},
    "colab_type": "code",
    "id": "Z-TDt0Y_XEfc"
   },
   "outputs": [],
   "source": [
    "from sklearn.model_selection import train_test_split\n",
    "X_train, X_test, y_train, y_test = train_test_split(X, y, test_size = 0.2, random_state = 0)"
   ]
  },
  {
   "cell_type": "markdown",
   "metadata": {
    "colab_type": "text",
    "id": "RE_FcHyfV3TQ"
   },
   "source": [
    "### Feature Scaling"
   ]
  },
  {
   "cell_type": "code",
   "execution_count": 11,
   "metadata": {
    "colab": {},
    "colab_type": "code",
    "id": "ViCrE00rV8Sk"
   },
   "outputs": [],
   "source": [
    "from sklearn.preprocessing import StandardScaler\n",
    "sc = StandardScaler()\n",
    "X_train = sc.fit_transform(X_train)\n",
    "X_test = sc.transform(X_test)"
   ]
  },
  {
   "cell_type": "markdown",
   "metadata": {
    "colab_type": "text",
    "id": "-zfEzkRVXIwF"
   },
   "source": [
    "## Building the ANN"
   ]
  },
  {
   "cell_type": "markdown",
   "metadata": {
    "colab_type": "text",
    "id": "KvdeScabXtlB"
   },
   "source": [
    "### Initializing the ANN"
   ]
  },
  {
   "cell_type": "code",
   "execution_count": 12,
   "metadata": {
    "colab": {},
    "colab_type": "code",
    "id": "3dtrScHxXQox"
   },
   "outputs": [],
   "source": [
    "ann = tf.keras.models.Sequential()"
   ]
  },
  {
   "cell_type": "markdown",
   "metadata": {
    "colab_type": "text",
    "id": "rP6urV6SX7kS"
   },
   "source": [
    "### Adding the input layer and the first hidden layer"
   ]
  },
  {
   "cell_type": "code",
   "execution_count": 13,
   "metadata": {
    "colab": {},
    "colab_type": "code",
    "id": "bppGycBXYCQr"
   },
   "outputs": [],
   "source": [
    "ann.add(tf.keras.layers.Dense(units=6, activation='relu'))"
   ]
  },
  {
   "cell_type": "markdown",
   "metadata": {
    "colab_type": "text",
    "id": "BELWAc_8YJze"
   },
   "source": [
    "### Adding the second hidden layer"
   ]
  },
  {
   "cell_type": "code",
   "execution_count": 14,
   "metadata": {
    "colab": {},
    "colab_type": "code",
    "id": "JneR0u0sYRTd"
   },
   "outputs": [],
   "source": [
    "ann.add(tf.keras.layers.Dense(units=6, activation='relu'))"
   ]
  },
  {
   "cell_type": "markdown",
   "metadata": {
    "colab_type": "text",
    "id": "OyNEe6RXYcU4"
   },
   "source": [
    "### Adding the output layer"
   ]
  },
  {
   "cell_type": "code",
   "execution_count": 15,
   "metadata": {
    "colab": {},
    "colab_type": "code",
    "id": "Cn3x41RBYfvY"
   },
   "outputs": [],
   "source": [
    "ann.add(tf.keras.layers.Dense(units=1, activation='sigmoid'))"
   ]
  },
  {
   "cell_type": "markdown",
   "metadata": {
    "colab_type": "text",
    "id": "JT4u2S1_Y4WG"
   },
   "source": [
    "## Training the ANN"
   ]
  },
  {
   "cell_type": "markdown",
   "metadata": {
    "colab_type": "text",
    "id": "8GWlJChhY_ZI"
   },
   "source": [
    "### Compiling the ANN"
   ]
  },
  {
   "cell_type": "code",
   "execution_count": 16,
   "metadata": {
    "colab": {},
    "colab_type": "code",
    "id": "fG3RrwDXZEaS"
   },
   "outputs": [],
   "source": [
    "ann.compile(optimizer = 'adam', loss = 'binary_crossentropy', metrics = ['accuracy'])"
   ]
  },
  {
   "cell_type": "markdown",
   "metadata": {
    "colab_type": "text",
    "id": "0QR_G5u7ZLSM"
   },
   "source": [
    "### Training the ANN on the Training set"
   ]
  },
  {
   "cell_type": "code",
   "execution_count": 17,
   "metadata": {
    "colab": {
     "base_uri": "https://localhost:8080/",
     "height": 1000
    },
    "colab_type": "code",
    "id": "nHZ-LKv_ZRb3",
    "outputId": "da39b09a-0547-41d0-d94f-0df61e94a538"
   },
   "outputs": [
    {
     "name": "stdout",
     "output_type": "stream",
     "text": [
      "Epoch 1/100\n",
      "250/250 [==============================] - 0s 1ms/step - loss: 0.5793 - accuracy: 0.7795\n",
      "Epoch 2/100\n",
      "250/250 [==============================] - 0s 979us/step - loss: 0.4810 - accuracy: 0.7960\n",
      "Epoch 3/100\n",
      "250/250 [==============================] - 0s 1ms/step - loss: 0.4477 - accuracy: 0.7960\n",
      "Epoch 4/100\n",
      "250/250 [==============================] - 0s 964us/step - loss: 0.4300 - accuracy: 0.7960\n",
      "Epoch 5/100\n",
      "250/250 [==============================] - 0s 1ms/step - loss: 0.4204 - accuracy: 0.7960\n",
      "Epoch 6/100\n",
      "250/250 [==============================] - 0s 977us/step - loss: 0.4132 - accuracy: 0.7979\n",
      "Epoch 7/100\n",
      "250/250 [==============================] - 0s 988us/step - loss: 0.4055 - accuracy: 0.8074\n",
      "Epoch 8/100\n",
      "250/250 [==============================] - 0s 987us/step - loss: 0.3978 - accuracy: 0.8257\n",
      "Epoch 9/100\n",
      "250/250 [==============================] - 0s 1ms/step - loss: 0.3902 - accuracy: 0.8296\n",
      "Epoch 10/100\n",
      "250/250 [==============================] - 0s 982us/step - loss: 0.3836 - accuracy: 0.8372\n",
      "Epoch 11/100\n",
      "250/250 [==============================] - 0s 989us/step - loss: 0.3783 - accuracy: 0.8389\n",
      "Epoch 12/100\n",
      "250/250 [==============================] - 0s 973us/step - loss: 0.3739 - accuracy: 0.8416\n",
      "Epoch 13/100\n",
      "250/250 [==============================] - 0s 988us/step - loss: 0.3700 - accuracy: 0.8424\n",
      "Epoch 14/100\n",
      "250/250 [==============================] - 0s 977us/step - loss: 0.3665 - accuracy: 0.8443\n",
      "Epoch 15/100\n",
      "250/250 [==============================] - 0s 992us/step - loss: 0.3631 - accuracy: 0.8460\n",
      "Epoch 16/100\n",
      "250/250 [==============================] - 0s 983us/step - loss: 0.3589 - accuracy: 0.8516\n",
      "Epoch 17/100\n",
      "250/250 [==============================] - 0s 980us/step - loss: 0.3549 - accuracy: 0.8524\n",
      "Epoch 18/100\n",
      "250/250 [==============================] - 0s 984us/step - loss: 0.3523 - accuracy: 0.8526\n",
      "Epoch 19/100\n",
      "250/250 [==============================] - 0s 964us/step - loss: 0.3496 - accuracy: 0.8583\n",
      "Epoch 20/100\n",
      "250/250 [==============================] - 0s 961us/step - loss: 0.3470 - accuracy: 0.8576\n",
      "Epoch 21/100\n",
      "250/250 [==============================] - 0s 1ms/step - loss: 0.3454 - accuracy: 0.8580\n",
      "Epoch 22/100\n",
      "250/250 [==============================] - 0s 962us/step - loss: 0.3438 - accuracy: 0.8596\n",
      "Epoch 23/100\n",
      "250/250 [==============================] - 0s 976us/step - loss: 0.3426 - accuracy: 0.8595\n",
      "Epoch 24/100\n",
      "250/250 [==============================] - 0s 978us/step - loss: 0.3417 - accuracy: 0.8606\n",
      "Epoch 25/100\n",
      "250/250 [==============================] - 0s 985us/step - loss: 0.3410 - accuracy: 0.8594\n",
      "Epoch 26/100\n",
      "250/250 [==============================] - 0s 993us/step - loss: 0.3401 - accuracy: 0.8618\n",
      "Epoch 27/100\n",
      "250/250 [==============================] - 0s 971us/step - loss: 0.3399 - accuracy: 0.8604\n",
      "Epoch 28/100\n",
      "250/250 [==============================] - 0s 1000us/step - loss: 0.3397 - accuracy: 0.8604\n",
      "Epoch 29/100\n",
      "250/250 [==============================] - 0s 999us/step - loss: 0.3390 - accuracy: 0.8606\n",
      "Epoch 30/100\n",
      "250/250 [==============================] - 0s 1ms/step - loss: 0.3388 - accuracy: 0.8610\n",
      "Epoch 31/100\n",
      "250/250 [==============================] - 0s 1ms/step - loss: 0.3393 - accuracy: 0.8594\n",
      "Epoch 32/100\n",
      "250/250 [==============================] - 0s 978us/step - loss: 0.3382 - accuracy: 0.8624\n",
      "Epoch 33/100\n",
      "250/250 [==============================] - 0s 990us/step - loss: 0.3383 - accuracy: 0.8614\n",
      "Epoch 34/100\n",
      "250/250 [==============================] - 0s 977us/step - loss: 0.3386 - accuracy: 0.8615\n",
      "Epoch 35/100\n",
      "250/250 [==============================] - 0s 949us/step - loss: 0.3379 - accuracy: 0.8611\n",
      "Epoch 36/100\n",
      "250/250 [==============================] - 0s 951us/step - loss: 0.3381 - accuracy: 0.8602\n",
      "Epoch 37/100\n",
      "250/250 [==============================] - 0s 1ms/step - loss: 0.3375 - accuracy: 0.8612\n",
      "Epoch 38/100\n",
      "250/250 [==============================] - 0s 1ms/step - loss: 0.3376 - accuracy: 0.8626\n",
      "Epoch 39/100\n",
      "250/250 [==============================] - 0s 1ms/step - loss: 0.3378 - accuracy: 0.8608\n",
      "Epoch 40/100\n",
      "250/250 [==============================] - 0s 965us/step - loss: 0.3373 - accuracy: 0.8619\n",
      "Epoch 41/100\n",
      "250/250 [==============================] - 0s 992us/step - loss: 0.3371 - accuracy: 0.8619\n",
      "Epoch 42/100\n",
      "250/250 [==============================] - 0s 996us/step - loss: 0.3371 - accuracy: 0.8631\n",
      "Epoch 43/100\n",
      "250/250 [==============================] - 0s 972us/step - loss: 0.3371 - accuracy: 0.8622\n",
      "Epoch 44/100\n",
      "250/250 [==============================] - 0s 1ms/step - loss: 0.3372 - accuracy: 0.8619\n",
      "Epoch 45/100\n",
      "250/250 [==============================] - 0s 1ms/step - loss: 0.3368 - accuracy: 0.8635\n",
      "Epoch 46/100\n",
      "250/250 [==============================] - 0s 970us/step - loss: 0.3370 - accuracy: 0.8619\n",
      "Epoch 47/100\n",
      "250/250 [==============================] - 0s 980us/step - loss: 0.3368 - accuracy: 0.8611\n",
      "Epoch 48/100\n",
      "250/250 [==============================] - 0s 962us/step - loss: 0.3365 - accuracy: 0.8630\n",
      "Epoch 49/100\n",
      "250/250 [==============================] - 0s 996us/step - loss: 0.3361 - accuracy: 0.8627\n",
      "Epoch 50/100\n",
      "250/250 [==============================] - 0s 999us/step - loss: 0.3360 - accuracy: 0.8635\n",
      "Epoch 51/100\n",
      "250/250 [==============================] - 0s 1ms/step - loss: 0.3362 - accuracy: 0.8614\n",
      "Epoch 52/100\n",
      "250/250 [==============================] - 0s 994us/step - loss: 0.3362 - accuracy: 0.8624\n",
      "Epoch 53/100\n",
      "250/250 [==============================] - 0s 995us/step - loss: 0.3360 - accuracy: 0.8629\n",
      "Epoch 54/100\n",
      "250/250 [==============================] - 0s 976us/step - loss: 0.3361 - accuracy: 0.8631\n",
      "Epoch 55/100\n",
      "250/250 [==============================] - 0s 974us/step - loss: 0.3360 - accuracy: 0.8614\n",
      "Epoch 56/100\n",
      "250/250 [==============================] - 0s 975us/step - loss: 0.3359 - accuracy: 0.8626\n",
      "Epoch 57/100\n",
      "250/250 [==============================] - 0s 983us/step - loss: 0.3357 - accuracy: 0.8612\n",
      "Epoch 58/100\n",
      "250/250 [==============================] - 0s 968us/step - loss: 0.3355 - accuracy: 0.8633\n",
      "Epoch 59/100\n",
      "250/250 [==============================] - 0s 965us/step - loss: 0.3359 - accuracy: 0.8620\n",
      "Epoch 60/100\n",
      "250/250 [==============================] - 0s 992us/step - loss: 0.3354 - accuracy: 0.8616\n",
      "Epoch 61/100\n",
      "250/250 [==============================] - 0s 997us/step - loss: 0.3356 - accuracy: 0.8604\n",
      "Epoch 62/100\n",
      "250/250 [==============================] - 0s 998us/step - loss: 0.3354 - accuracy: 0.8631\n",
      "Epoch 63/100\n",
      "250/250 [==============================] - 0s 980us/step - loss: 0.3354 - accuracy: 0.8622\n",
      "Epoch 64/100\n",
      "250/250 [==============================] - 0s 964us/step - loss: 0.3356 - accuracy: 0.8631\n",
      "Epoch 65/100\n",
      "250/250 [==============================] - 0s 1ms/step - loss: 0.3355 - accuracy: 0.8634\n",
      "Epoch 66/100\n",
      "250/250 [==============================] - 0s 976us/step - loss: 0.3351 - accuracy: 0.8643\n",
      "Epoch 67/100\n",
      "250/250 [==============================] - 0s 982us/step - loss: 0.3352 - accuracy: 0.8621\n",
      "Epoch 68/100\n",
      "250/250 [==============================] - 0s 993us/step - loss: 0.3350 - accuracy: 0.8635\n",
      "Epoch 69/100\n",
      "250/250 [==============================] - 0s 993us/step - loss: 0.3353 - accuracy: 0.8615\n",
      "Epoch 70/100\n",
      "250/250 [==============================] - 0s 959us/step - loss: 0.3355 - accuracy: 0.8639\n",
      "Epoch 71/100\n",
      "250/250 [==============================] - 0s 976us/step - loss: 0.3353 - accuracy: 0.8656\n",
      "Epoch 72/100\n",
      "250/250 [==============================] - 0s 972us/step - loss: 0.3351 - accuracy: 0.8630\n",
      "Epoch 73/100\n",
      "250/250 [==============================] - 0s 954us/step - loss: 0.3352 - accuracy: 0.8626\n",
      "Epoch 74/100\n",
      "250/250 [==============================] - 0s 998us/step - loss: 0.3351 - accuracy: 0.8630\n",
      "Epoch 75/100\n",
      "250/250 [==============================] - 0s 986us/step - loss: 0.3353 - accuracy: 0.8649\n",
      "Epoch 76/100\n",
      "250/250 [==============================] - 0s 971us/step - loss: 0.3349 - accuracy: 0.8629\n",
      "Epoch 77/100\n",
      "250/250 [==============================] - 0s 1ms/step - loss: 0.3350 - accuracy: 0.8630\n",
      "Epoch 78/100\n",
      "250/250 [==============================] - 0s 962us/step - loss: 0.3349 - accuracy: 0.8639\n",
      "Epoch 79/100\n",
      "250/250 [==============================] - 0s 954us/step - loss: 0.3348 - accuracy: 0.8637\n",
      "Epoch 80/100\n",
      "250/250 [==============================] - 0s 958us/step - loss: 0.3348 - accuracy: 0.8627\n",
      "Epoch 81/100\n",
      "250/250 [==============================] - 0s 983us/step - loss: 0.3345 - accuracy: 0.8624\n",
      "Epoch 82/100\n",
      "250/250 [==============================] - 0s 983us/step - loss: 0.3346 - accuracy: 0.8620\n",
      "Epoch 83/100\n",
      "250/250 [==============================] - 0s 972us/step - loss: 0.3344 - accuracy: 0.8635\n",
      "Epoch 84/100\n",
      "250/250 [==============================] - 0s 962us/step - loss: 0.3346 - accuracy: 0.8621\n",
      "Epoch 85/100\n",
      "250/250 [==============================] - 0s 1ms/step - loss: 0.3344 - accuracy: 0.8645\n",
      "Epoch 86/100\n",
      "250/250 [==============================] - 0s 972us/step - loss: 0.3341 - accuracy: 0.8626\n",
      "Epoch 87/100\n",
      "250/250 [==============================] - 0s 975us/step - loss: 0.3342 - accuracy: 0.8637\n",
      "Epoch 88/100\n",
      "250/250 [==============================] - 0s 964us/step - loss: 0.3344 - accuracy: 0.8621\n",
      "Epoch 89/100\n",
      "250/250 [==============================] - 0s 981us/step - loss: 0.3344 - accuracy: 0.8621\n",
      "Epoch 90/100\n",
      "250/250 [==============================] - 0s 979us/step - loss: 0.3343 - accuracy: 0.8627\n",
      "Epoch 91/100\n",
      "250/250 [==============================] - 0s 996us/step - loss: 0.3341 - accuracy: 0.8650\n",
      "Epoch 92/100\n",
      "250/250 [==============================] - 0s 982us/step - loss: 0.3342 - accuracy: 0.8637\n",
      "Epoch 93/100\n",
      "250/250 [==============================] - 0s 1ms/step - loss: 0.3338 - accuracy: 0.8627\n",
      "Epoch 94/100\n",
      "250/250 [==============================] - 0s 1ms/step - loss: 0.3341 - accuracy: 0.8621\n",
      "Epoch 95/100\n",
      "250/250 [==============================] - 0s 997us/step - loss: 0.3339 - accuracy: 0.8641\n",
      "Epoch 96/100\n",
      "250/250 [==============================] - 0s 987us/step - loss: 0.3339 - accuracy: 0.8622\n",
      "Epoch 97/100\n",
      "250/250 [==============================] - 0s 1ms/step - loss: 0.3337 - accuracy: 0.8643\n",
      "Epoch 98/100\n",
      "250/250 [==============================] - 0s 1ms/step - loss: 0.3339 - accuracy: 0.8636\n",
      "Epoch 99/100\n",
      "250/250 [==============================] - 0s 985us/step - loss: 0.3337 - accuracy: 0.8636\n",
      "Epoch 100/100\n",
      "250/250 [==============================] - 0s 996us/step - loss: 0.3332 - accuracy: 0.8635\n"
     ]
    },
    {
     "data": {
      "text/plain": [
       "<tensorflow.python.keras.callbacks.History at 0x7f8397ef3240>"
      ]
     },
     "execution_count": 17,
     "metadata": {
      "tags": []
     },
     "output_type": "execute_result"
    }
   ],
   "source": [
    "ann.fit(X_train, y_train, batch_size = 32, epochs = 100)"
   ]
  },
  {
   "cell_type": "markdown",
   "metadata": {
    "colab_type": "text",
    "id": "tJj5k2MxZga3"
   },
   "source": [
    "## Making the predictions and evaluating the model"
   ]
  },
  {
   "cell_type": "markdown",
   "metadata": {
    "colab_type": "text",
    "id": "84QFoqGYeXHL"
   },
   "source": [
    "### Predicting the result of a single observation"
   ]
  },
  {
   "cell_type": "markdown",
   "metadata": {
    "colab_type": "text",
    "id": "CGRo3eacgDdC"
   },
   "source": [
    "Use our ANN model to predict if the customer with the following informations will leave the bank: \n",
    "\n",
    "Geography: France\n",
    "\n",
    "Credit Score: 600\n",
    "\n",
    "Gender: Male\n",
    "\n",
    "Age: 40 years old\n",
    "\n",
    "Tenure: 3 years\n",
    "\n",
    "Balance: \\$ 60000\n",
    "\n",
    "Number of Products: 2\n",
    "\n",
    "Does this customer have a credit card? Yes\n",
    "\n",
    "Is this customer an Active Member: Yes\n",
    "\n",
    "Estimated Salary: \\$ 50000\n",
    "\n",
    "Will the customer leave the bank?\n"
   ]
  },
  {
   "cell_type": "code",
   "execution_count": 18,
   "metadata": {
    "colab": {
     "base_uri": "https://localhost:8080/",
     "height": 34
    },
    "colab_type": "code",
    "id": "2d8IoCCkeWGL",
    "outputId": "a02d3ab0-cf2c-44ce-9385-cf47324feee2"
   },
   "outputs": [
    {
     "name": "stdout",
     "output_type": "stream",
     "text": [
      "[[False]]\n"
     ]
    }
   ],
   "source": [
    "print(ann.predict(sc.transform([[1, 0, 0, 600, 1, 40, 3, 60000, 2, 1, 1, 50000]])) > 0.5)"
   ]
  },
  {
   "cell_type": "markdown",
   "metadata": {
    "colab_type": "text",
    "id": "wGjx94g2n7OV"
   },
   "source": [
    "Therefore, our ANN model predicts that this customer stays in the bank!"
   ]
  },
  {
   "cell_type": "markdown",
   "metadata": {
    "colab_type": "text",
    "id": "u7yx47jPZt11"
   },
   "source": [
    "### Predicting the Test set results"
   ]
  },
  {
   "cell_type": "code",
   "execution_count": 19,
   "metadata": {
    "colab": {
     "base_uri": "https://localhost:8080/",
     "height": 140
    },
    "colab_type": "code",
    "id": "nIyEeQdRZwgs",
    "outputId": "82ce24cf-77df-4ee5-e9ff-869ec8642c37"
   },
   "outputs": [
    {
     "name": "stdout",
     "output_type": "stream",
     "text": [
      "[[0 0]\n",
      " [0 1]\n",
      " [0 0]\n",
      " ...\n",
      " [0 0]\n",
      " [0 0]\n",
      " [0 0]]\n"
     ]
    }
   ],
   "source": [
    "y_pred = ann.predict(X_test)\n",
    "y_pred = (y_pred > 0.5)\n",
    "print(np.concatenate((y_pred.reshape(len(y_pred),1), y_test.reshape(len(y_test),1)),1))"
   ]
  },
  {
   "cell_type": "markdown",
   "metadata": {
    "colab_type": "text",
    "id": "o0oyfLWoaEGw"
   },
   "source": [
    "### Making the Confusion Matrix"
   ]
  },
  {
   "cell_type": "code",
   "execution_count": 20,
   "metadata": {
    "colab": {
     "base_uri": "https://localhost:8080/",
     "height": 70
    },
    "colab_type": "code",
    "id": "ci6K_r6LaF6P",
    "outputId": "394aea53-6faa-46cf-d2df-ca2baf250962"
   },
   "outputs": [
    {
     "name": "stdout",
     "output_type": "stream",
     "text": [
      "[[1514   81]\n",
      " [ 196  209]]\n"
     ]
    },
    {
     "data": {
      "text/plain": [
       "0.8615"
      ]
     },
     "execution_count": 20,
     "metadata": {
      "tags": []
     },
     "output_type": "execute_result"
    }
   ],
   "source": [
    "from sklearn.metrics import confusion_matrix, accuracy_score\n",
    "cm = confusion_matrix(y_test, y_pred)\n",
    "print(cm)\n",
    "accuracy_score(y_test, y_pred)"
   ]
  }
 ],
 "metadata": {
  "colab": {
   "collapsed_sections": [],
   "name": "Copy of artificial_neural_network.ipynb",
   "provenance": [],
   "toc_visible": true
  },
  "kernelspec": {
   "display_name": "Python 3",
   "language": "python",
   "name": "python3"
  },
  "language_info": {
   "codemirror_mode": {
    "name": "ipython",
    "version": 3
   },
   "file_extension": ".py",
   "mimetype": "text/x-python",
   "name": "python",
   "nbconvert_exporter": "python",
   "pygments_lexer": "ipython3",
   "version": "3.7.4"
  }
 },
 "nbformat": 4,
 "nbformat_minor": 1
}